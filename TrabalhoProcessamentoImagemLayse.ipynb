"""
SPECTRUM: Ferramenta de Análise e Correção de Imagens
Projeto de Processamento de Imagens - Cidade de Véridia

Grupo: Erika Dias do Nascimento Marques, Cauan Lemos Barbosa Paulo,
       Paulo Souza Telles Filho, Thiago Vinny, Leandro Dias

Funcionalidades:
- Transformações Lineares (Brilho/Contraste) - Leandro Dias
- Transformações Não-Lineares (Gamma, Log) - Thiago Vinny
- Equalização de Histograma - Erika Dias
- Análise de Histograma - Cauan Lemos
- Visualização Comparativa - Paulo Telles
- Parâmetros Personalizados - Erika Dias
"""

import numpy as np
import cv2
from PIL import Image
import matplotlib.pyplot as plt
from skimage import exposure, io, color
import os
from datetime import datetime
import json
from typing import Dict, List, Tuple, Any
from google.colab import files, drive
import ipywidgets as widgets
from IPython.display import display, clear_output
import warnings
warnings.filterwarnings('ignore')

class SpectrumImageProcessor:
    def __init__(self):
        self.images_history = []
        self.current_image = None
        self.original_image = None
        self.processed_image = None
        self.user_type = "operador"
        print("SPECTRUM - Sistema de Processamento de Imagens")
        print("=" * 50)

    def upload_image(self, path: str = None):
        import io
        from IPython.display import Image as IPImage, display
        print(" Carregando imagem...")
        valid_formats = ['.jpg', '.jpeg', '.png', '.tiff', '.bmp']
        filename = None
        file_bytes = None
        try:
            if path is not None and os.path.exists(path):
                filename = os.path.basename(path)
                file_bytes = open(path, "rb").read()
            elif "google.colab" in str(get_ipython()):
                from google.colab import files
                uploaded = files.upload()
                if not uploaded:
                    print("Nenhum arquivo enviado!")
                    return False
                filename = list(uploaded.keys())[0]
                file_bytes = uploaded[filename]
            else:
                print("X Caminho inválido ou upload não realizado.")
                return False
            if not any(filename.lower().endswith(fmt) for fmt in valid_formats):
                print(f"X Formato '{filename}' não suportado!")
                return False
            pil_image = Image.open(io.BytesIO(file_bytes)).convert("RGB")
            self.original_image = cv2.cvtColor(np.array(pil_image), cv2.COLOR_RGB2BGR)
            self.current_image = self.original_image.copy()
            print(f" Imagem carregada com sucesso: {filename}")
            print(f"Dimensões: {self.original_image.shape}")
            display(IPImage(data=file_bytes, width=300))
            self._log_operation("upload", {
                "filename": filename,
                "shape": self.original_image.shape,
                "timestamp": datetime.now().isoformat()
            })
            return True
        except Exception as e:
            print(f" Erro ao carregar imagem: {e}")
            return False

    def linear_transformations(self, brightness=0, contrast=1.0):
        if self.current_image is None:
            print("⚠️ Nenhuma imagem carregada! Use a opção 1 antes.")
            return
        brightness = np.clip(brightness, -100, 100)
        contrast = np.clip(contrast, 0.1, 3.0)
        print(f"🔧 Aplicando transformação linear...")
        print(f"   ➤ Brilho: {brightness}")
        print(f"   ➤ Contraste: {contrast:.2f}")
        img_float = self.current_image.astype(np.float32)
        transformed = contrast * img_float + brightness
        self.processed_image = np.clip(transformed, 0, 255).astype(np.uint8)
        delta_mean = np.mean(self.processed_image) - np.mean(self.current_image)
        delta_std = np.std(self.processed_image) - np.std(self.current_image)
        print(f"✅ Transformação linear aplicada com sucesso!")
        print(f"📊 Δ Média: {delta_mean:.2f}, Δ Desvio Padrão: {delta_std:.2f}")
        self.current_image = self.processed_image.copy()
        self._log_operation("linear_transform", {
            "brightness": brightness,
            "contrast": contrast,
            "delta_mean": round(float(delta_mean), 2),
            "delta_std": round(float(delta_std), 2),
            "timestamp": datetime.now().isoformat()
        })

    def nonlinear_transformations(self, transformation_type="gamma", gamma=1.0, c_log=1.0):
        if self.current_image is None:
            print("⚠️ Nenhuma imagem carregada! Use a opção 1 antes.")
            return
        transformation_type = transformation_type.lower()
        gamma = np.clip(gamma, 0.1, 3.0)
        c_log = max(0.1, c_log)
        print(f"⚙️ Aplicando transformação não-linear ({transformation_type})...")
        print(f"   ➤ Gamma: {gamma}, Constante log: {c_log}")
        img_normalized = self.current_image.astype(np.float32) / 255.0
        if transformation_type == "gamma":
            processed = np.power(img_normalized, gamma)
        elif transformation_type == "log":
            processed = c_log * np.log1p(img_normalized)
        elif transformation_type == "power":
            processed = np.power(img_normalized, 1 / gamma)
        else:
            print("❌ Tipo inválido! Use: gamma, log ou power.")
            return
        self.processed_image = np.clip(processed * 255, 0, 255).astype(np.uint8)
        delta_mean = np.mean(self.processed_image) - np.mean(self.current_image)
        delta_std = np.std(self.processed_image) - np.std(self.current_image)
        print(f"✅ Transformação não-linear aplicada com sucesso!")
        print(f"📊 Δ Média: {delta_mean:.2f}, Δ Desvio Padrão: {delta_std:.2f}")
        self.current_image = self.processed_image.copy()
        self._log_operation("nonlinear_transform", {
            "type": transformation_type,
            "gamma": gamma,
            "c_log": c_log,
            "delta_mean": round(float(delta_mean), 2),
            "delta_std": round(float(delta_std), 2),
            "timestamp": datetime.now().isoformat()
        })

    def histogram_equalization(self, method="global"):
        if self.current_image is None:
            print("Carregue uma imagem primeiro.")
            return

        method = method.lower()
        print(f"Aplicando equalização de histograma ({method})")

        if len(self.current_image.shape) == 3:
            ycrcb = cv2.cvtColor(self.current_image, cv2.COLOR_BGR2YCrCb)
            y_channel = ycrcb[:, :, 0]
            if method == "adaptive":
                clahe = cv2.createCLAHE(clipLimit=2.0, tileGridSize=(8, 8))
                y_channel_eq = clahe.apply(y_channel)
            else:
                y_channel_eq = cv2.equalizeHist(y_channel)
            ycrcb[:, :, 0] = y_channel_eq
            self.processed_image = cv2.cvtColor(ycrcb, cv2.COLOR_YCrCb2BGR)
        else:
            if method == "adaptive":
                clahe = cv2.createCLAHE(clipLimit=2.0, tileGridSize=(8, 8))
                self.processed_image = clahe.apply(self.current_image)
            else:
                self.processed_image = cv2.equalizeHist(self.current_image)

        orig_mean, orig_std = np.mean(self.current_image), np.std(self.current_image)
        proc_mean, proc_std = np.mean(self.processed_image), np.std(self.processed_image)
        print(f"Δ Média: {proc_mean - orig_mean:.2f}, Δ Desvio: {proc_std - orig_std:.2f}")

        self.comparative_visualization()
        self.current_image = self.processed_image.copy()
        self._log_operation("histogram_equalization", {
            "method": method,
            "delta_mean": round(float(proc_mean - orig_mean), 2),
            "delta_std": round(float(proc_std - orig_std), 2),
            "timestamp": datetime.now().isoformat()
        })

    def analyze_histogram(self, show_comparison=True, save_plot=False):
        if self.original_image is None:
            print("Carregue uma imagem primeiro.")
            return

        print("Analisando histogramas.")
        fig, axes = plt.subplots(2, 2 if show_comparison else 1, figsize=(14, 9))
        fig.suptitle('SPECTRUM - Análise de Histogramas', fontsize=16, fontweight='bold')

        if len(self.original_image.shape) == 3:
            axes[0, 0].imshow(cv2.cvtColor(self.original_image, cv2.COLOR_BGR2RGB))
        else:
            axes[0, 0].imshow(self.original_image, cmap='gray')
        axes[0, 0].set_title('Imagem Original')
        axes[0, 0].axis('off')
        self._plot_histogram_with_cdf(self.original_image, axes[1, 0], "Histograma Original")

        if show_comparison and self.processed_image is not None:
            if len(self.processed_image.shape) == 3:
                axes[0, 1].imshow(cv2.cvtColor(self.processed_image, cv2.COLOR_BGR2RGB))
            else:
                axes[0, 1].imshow(self.processed_image, cmap='gray')
            axes[0, 1].set_title('Imagem Processada')
            axes[0, 1].axis('off')
            self._plot_histogram_with_cdf(self.processed_image, axes[1, 1], "Histograma Processado")

        plt.tight_layout()
        plt.show()

        if save_plot:
            fname = f"histogram_analysis_{datetime.now().strftime('%Y%m%d_%H%M%S')}.png"
            fig.savefig(fname, bbox_inches='tight')
            print(f"Análise salva em: {fname}")

        self._generate_statistics()

    def _plot_histogram_with_cdf(self, image, ax, title):
        if len(image.shape) == 3:
            colors = ['b', 'g', 'r']
            for i, color in enumerate(colors):
                hist = cv2.calcHist([image], [i], None, [256], [0, 256])
                hist_norm = hist / hist.sum()
                cdf = hist_norm.cumsum()
                ax.plot(hist_norm, color=color, alpha=0.7, label=f'{color.upper()} Hist')
                ax.plot(cdf, color=color, linestyle='--', alpha=0.5, label=f'{color.upper()} CDF')
        else:
            hist = cv2.calcHist([image], [0], None, [256], [0, 256])
            hist_norm = hist / hist.sum()
            cdf = hist_norm.cumsum()
            ax.plot(hist_norm, color='black', label='Histograma')
            ax.plot(cdf, color='gray', linestyle='--', label='CDF')

        ax.set_title(title)
        ax.set_xlabel('Intensidade')
        ax.set_ylabel('Frequência normalizada')
        ax.legend(loc='upper right', fontsize=8)
        ax.grid(True, alpha=0.3)

    def comparative_visualization(self):
        if self.original_image is None or self.processed_image is None:
            print("Execute uma transformação primeiro!")
            return
        print("Visualização Comparativa")
        fig, axes = plt.subplots(1, 2, figsize=(16, 6))
        fig.suptitle('SPECTRUM - Comparação Lado a Lado', fontsize=16, fontweight='bold')
        if len(self.original_image.shape) == 3:
            axes[0].imshow(cv2.cvtColor(self.original_image, cv2.COLOR_BGR2RGB))
        else:
            axes[0].imshow(self.original_image, cmap='gray')
        axes[0].set_title('Original')
        axes[0].axis('off')
        if len(self.processed_image.shape) == 3:
            axes[1].imshow(cv2.cvtColor(self.processed_image, cv2.COLOR_BGR2RGB))
        else:
            axes[1].imshow(self.processed_image, cmap='gray')
        axes[1].set_title('Processada')
        axes[1].axis('off')
        plt.tight_layout()
        plt.show()

    def custom_parameters_interface(self):
        print("Interface de Parâmetros Personalizados")
        brightness_slider = widgets.IntSlider(value=0, min=-100, max=100, step=1, description='Brilho:')
        contrast_slider = widgets.FloatSlider(value=1.0, min=0.1, max=3.0, step=0.1, description='Contraste:')
        gamma_slider = widgets.FloatSlider(value=1.0, min=0.1, max=3.0, step=0.1, description='Gamma:')
        def update_image(brightness, contrast, gamma):
            if self.original_image is not None:
                temp_image = cv2.convertScaleAbs(self.original_image, alpha=contrast, beta=brightness)
                temp_normalized = temp_image.astype(np.float64) / 255.0
                temp_gamma = np.power(temp_normalized, gamma)
                self.processed_image = np.clip(temp_gamma * 255, 0, 255).astype(np.uint8)
                self.current_image = self.processed_image.copy()
                self.comparative_visualization()
        interactive_widget = widgets.interactive(update_image, brightness=brightness_slider, contrast=contrast_slider, gamma=gamma_slider)
        display(interactive_widget)

    def generate_report(self):
        if not self.images_history:
            print("Nenhuma operação registrada!")
            return
        print("Gerando Relatório Detalhado...")
        report = {
            "sistema": "SPECTRUM - Ferramenta de Análise e Correção de Imagens",
            "cidade": "Véridia",
            "data_relatorio": datetime.now().isoformat(),
            "total_operacoes": len(self.images_history),
            "operacoes": self.images_history,
            "estatisticas": self._get_processing_stats()
        }
        filename = f"spectrum_report_{datetime.now().strftime('%Y%m%d_%H%M%S')}.json"
        with open(filename, 'w', encoding='utf-8') as f:
            json.dump(report, f, indent=2, ensure_ascii=False)
        print(f"✅ Relatório salvo: {filename}")
        print("\n" + "="*50)
        print("RESUMO DO RELATÓRIO")
        print("="*50)
        print(f"Total de operações: {len(self.images_history)}")
        op_types = {}
        for op in self.images_history:
            op_type = op['operation']
            op_types[op_type] = op_types.get(op_type, 0) + 1
        for op_type, count in op_types.items():
            print(f"- {op_type}: {count} vezes")
        return filename

    def download_processed_image(self, filename=None):
        if self.processed_image is None:
            print("Nenhuma imagem processada disponível!")
            return
        if filename is None:
            filename = f"spectrum_processed_{datetime.now().strftime('%Y%m%d_%H%M%S')}.png"
        cv2.imwrite(filename, self.processed_image)
        print(f"Imagem salva: {filename}")
        files.download(filename)

    def workflow_demo(self):
        print("DEMONSTRAÇÃO DO SISTEMA SPECTRUM")
        print("=" * 50)
        print("\n1️⃣ UPLOAD DE IMAGEM")
        if not self.upload_image():
            print("Demo interrompida - erro no upload")
            return
        print("\n2️⃣ ANÁLISE INICIAL")
        self.analyze_histogram(show_comparison=False)
        print("\n3️⃣ TRANSFORMAÇÕES LINEARES")
        self.linear_transformations(brightness=20, contrast=1.2)
        print("\n4️⃣ TRANSFORMAÇÕES NÃO-LINEARES")
        self.nonlinear_transformations("gamma", gamma=0.8)
        print("\n5️⃣ EQUALIZAÇÃO DE HISTOGRAMA")
        self.histogram_equalization("adaptive")
        print("\n6️⃣ ANÁLISE COMPARATIVA")
        self.analyze_histogram()
        self.comparative_visualization()
        print("\n7️⃣ GERAÇÃO DE RELATÓRIO")
        report_file = self.generate_report()
        print("\nDEMONSTRAÇÃO COMPLETA!")
        print(f"Relatório: {report_file}")

    def _plot_histogram(self, image, ax, title):
        if len(image.shape) == 3:
            colors = ['blue', 'green', 'red']
            for i, color in enumerate(colors):
                hist = cv2.calcHist([image], [i], None, [256], [0, 256])
                ax.plot(hist, color=color, alpha=0.7)
        else:
            hist = cv2.calcHist([image], [0], None, [256], [0, 256])
            ax.plot(hist, color='black')
        ax.set_title(title)
        ax.set_xlabel('Intensidade')
        ax.set_ylabel('Pixels')
        ax.grid(True, alpha=0.3)

    def _log_operation(self, operation, parameters):
        log_entry = {
            "operation": operation,
            "parameters": parameters,
            "timestamp": datetime.now().isoformat(),
            "user_type": self.user_type
        }
        self.images_history.append(log_entry)

    def _generate_statistics(self):
        if self.original_image is not None:
            print("\nESTATÍSTICAS DA IMAGEM")
            print("-" * 30)
            orig_mean = np.mean(self.original_image)
            orig_std = np.std(self.original_image)
            print(f"Original - Média: {orig_mean:.2f}, Desvio: {orig_std:.2f}")
            if self.processed_image is not None:
                proc_mean = np.mean(self.processed_image)
                proc_std = np.std(self.processed_image)
                print(f"Processada - Média: {proc_mean:.2f}, Desvio: {proc_std:.2f}")
                print(f"Diferença - Média: {proc_mean - orig_mean:.2f}")

    def _get_processing_stats(self):
        if not self.images_history:
            return {}
        stats = {
            "primeira_operacao": self.images_history[0]["timestamp"],
            "ultima_operacao": self.images_history[-1]["timestamp"],
            "tipos_operacao": {}
        }
        for op in self.images_history:
            op_type = op["operation"]
            if op_type not in stats["tipos_operacao"]:
                stats["tipos_operacao"][op_type] = 0
            stats["tipos_operacao"][op_type] += 1
        return stats

def main():
    print("=" * 50)
    spectrum = SpectrumImageProcessor()
    while True:
        print("\nMENU - Escolha uma opção:")
        print("1 - Upload de Imagem")
        print("2 - Transformações Lineares")
        print("3 - Transformações Não-Lineares")
        print("4 - Equalização de Histograma")
        print("5 - Análise de Histograma")
        print("6 - Visualização Comparativa")
        print("7 - Parâmetros Personalizados")
        print("8 - Demonstração Completa")
        print("9 - Gerar Relatório")
        print("10 - Download Imagem")
        print("0 - Sair")
        choice = input("\nEscolha uma opção: ")
        if choice == "1":
            spectrum.upload_image()
        elif choice == "2":
            brilho = int(input("Brilho (-100 a 100): ") or "0")
            contraste = float(input("Contraste (0.1 a 3.0): ") or "1.0")
            spectrum.linear_transformations(brilho, contraste)
        elif choice == "3":
            tipo = input("Tipo (gamma/log/power): ") or "gamma"
            gamma = float(input("Valor gamma (0.1 a 3.0): ") or "1.0")
            spectrum.nonlinear_transformations(tipo, gamma)
        elif choice == "4":
            metodo = input("Método (global/adaptive): ") or "global"
            spectrum.histogram_equalization(metodo)
        elif choice == "5":
            spectrum.analyze_histogram()
        elif choice == "6":
            spectrum.comparative_visualization()
        elif choice == "7":
            spectrum.custom_parameters_interface()
        elif choice == "8":
            spectrum.workflow_demo()
        elif choice == "9":
            spectrum.generate_report()
        elif choice == "10":a
            spectrum.download_processed_image()
        elif choice == "0":
            print("Processo encerrado!")
            break
        else:
            print("Opção inválida!")

if __name__ == "__main__":
    main()
