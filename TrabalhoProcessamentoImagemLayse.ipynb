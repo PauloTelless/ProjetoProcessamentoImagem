"""
SPECTRUM: Ferramenta de Análise e Correção de Imagens
Projeto de Processamento de Imagens - Cidade de Véridia

Grupo: Erika Dias do Nascimento Marques, Cauan Lemos Barbosa Paulo,
       Paulo Souza Telles Filho, Thiago Vinny, Leandro Dias

Funcionalidades:
- Transformações Lineares (Brilho/Contraste) - Leandro Dias
- Transformações Não-Lineares (Gamma, Log) - Thiago Vinny
- Equalização de Histograma - Erika Dias
- Análise de Histograma - Cauan Lemos
- Visualização Comparativa - Paulo Telles
- Parâmetros Personalizados - Erika Dias
"""

import numpy as np
import cv2
from PIL import Image
import matplotlib.pyplot as plt
from skimage import exposure
import os
from datetime import datetime
import json
from typing import Dict, List
from google.colab import files
import ipywidgets as widgets
from IPython.display import display, clear_output
import warnings
warnings.filterwarnings('ignore')

class SpectrumImageProcessor:
    def __init__(self):
        self.images_history = []
        self.current_image = None
        self.original_image = None
        self.processed_image = None
        self.user_type = "operador"
        print("SPECTRUM - Sistema de Processamento de Imagens")
        print("=" * 50)

    def upload_image(self, path: str = None):
        import io
        from IPython.display import Image as IPImage, display
        print(" Carregando imagem...")
        valid_formats = ['.jpg', '.jpeg', '.png', '.tiff', '.bmp']
        filename = None
        file_bytes = None
        try:
            if path is not None and os.path.exists(path):
                filename = os.path.basename(path)
                file_bytes = open(path, "rb").read()
            elif "google.colab" in str(get_ipython()):
                uploaded = files.upload()
                if not uploaded:
                    print("Nenhum arquivo enviado!")
                    return False
                filename = list(uploaded.keys())[0]
                file_bytes = uploaded[filename]
            else:
                print("X Caminho inválido ou upload não realizado.")
                return False
            if not any(filename.lower().endswith(fmt) for fmt in valid_formats):
                print(f"X Formato '{filename}' não suportado!")
                return False
            pil_image = Image.open(io.BytesIO(file_bytes)).convert("RGB")
            self.original_image = cv2.cvtColor(np.array(pil_image), cv2.COLOR_RGB2BGR)
            self.current_image = self.original_image.copy()
            print(f" Imagem carregada com sucesso: {filename}")
            print(f"Dimensões: {self.original_image.shape}")
            display(IPImage(data=file_bytes, width=300))
            self._log_operation("upload", {
                "filename": filename,
                "shape": self.original_image.shape,
                "timestamp": datetime.now().isoformat()
            })
            return True
        except Exception as e:
            print(f" Erro ao carregar imagem: {e}")
            return False

    def linear_transformations(self, brightness=0, contrast=1.0):
        if self.current_image is None:
            print("⚠️ Nenhuma imagem carregada! Use a opção 1 antes.")
            return
        brightness = np.clip(brightness, -100, 100)
        contrast = np.clip(contrast, 0.1, 3.0)
        print(f"🔧 Aplicando transformação linear...")
        img_float = self.current_image.astype(np.float32)
        transformed = contrast * img_float + brightness
        self.processed_image = np.clip(transformed, 0, 255).astype(np.uint8)
        delta_mean = np.mean(self.processed_image) - np.mean(self.current_image)
        delta_std = np.std(self.processed_image) - np.std(self.current_image)
        print(f"✅ Transformação linear aplicada! Δ Média: {delta_mean:.2f}, Δ Desvio: {delta_std:.2f}")
        self.current_image = self.processed_image.copy()
        self._log_operation("linear_transform", {
            "brightness": brightness,
            "contrast": contrast,
            "delta_mean": round(float(delta_mean), 2),
            "delta_std": round(float(delta_std), 2),
            "timestamp": datetime.now().isoformat()
        })

    def nonlinear_transformations(self, transformation_type="gamma", gamma=1.0, c_log=1.0):
        if self.current_image is None:
            print("⚠️ Nenhuma imagem carregada!")
            return
        transformation_type = transformation_type.lower()
        gamma = np.clip(gamma, 0.1, 3.0)
        c_log = max(0.1, c_log)
        img_normalized = self.current_image.astype(np.float32) / 255.0
        if transformation_type == "gamma":
            processed = np.power(img_normalized, gamma)
        elif transformation_type == "log":
            processed = c_log * np.log1p(img_normalized)
        else:
            print("❌ Tipo inválido!")
            return
        self.processed_image = np.clip(processed * 255, 0, 255).astype(np.uint8)
        delta_mean = np.mean(self.processed_image) - np.mean(self.current_image)
        delta_std = np.std(self.processed_image) - np.std(self.current_image)
        print(f"✅ Transformação não-linear aplicada! Δ Média: {delta_mean:.2f}, Δ Desvio: {delta_std:.2f}")
        self.current_image = self.processed_image.copy()
        self._log_operation("nonlinear_transform", {
            "type": transformation_type,
            "gamma": gamma,
            "c_log": c_log,
            "delta_mean": round(float(delta_mean), 2),
            "delta_std": round(float(delta_std), 2),
            "timestamp": datetime.now().isoformat()
        })

    def histogram_equalization(self, method="global"):
        if self.current_image is None:
            print("⚠️ Carregue uma imagem primeiro.")
            return
        method = method.lower()
        print(f"📈 Equalizando histograma ({method})...")
        if len(self.current_image.shape) == 3:
            ycrcb = cv2.cvtColor(self.current_image, cv2.COLOR_BGR2YCrCb)
            y = ycrcb[:, :, 0]
            if method == "adaptive":
                y_eq = cv2.createCLAHE(2.0, (8, 8)).apply(y)
            else:
                y_eq = cv2.equalizeHist(y)
            ycrcb[:, :, 0] = y_eq
            self.processed_image = cv2.cvtColor(ycrcb, cv2.COLOR_YCrCb2BGR)
        else:
            self.processed_image = cv2.equalizeHist(self.current_image)
        print("✅ Equalização concluída.")
        self._log_operation("histogram_equalization", {
            "method": method,
            "timestamp": datetime.now().isoformat()
        })

    def analyze_histogram(self):
        if self.original_image is None:
            print("⚠️ Nenhuma imagem carregada!")
            return
        fig, ax = plt.subplots(1, 2, figsize=(14, 5))
        ax[0].imshow(cv2.cvtColor(self.original_image, cv2.COLOR_BGR2RGB))
        ax[0].set_title("Original")
        ax[0].axis("off")
        if self.processed_image is not None:
            ax[1].imshow(cv2.cvtColor(self.processed_image, cv2.COLOR_BGR2RGB))
            ax[1].set_title("Processada")
            ax[1].axis("off")
        plt.show()

    def comparative_visualization(self):
        if self.original_image is None or self.processed_image is None:
            print("⚠️ Execute uma transformação primeiro.")
            return
        fig, ax = plt.subplots(figsize=(10, 6))
        img1 = cv2.cvtColor(self.original_image, cv2.COLOR_BGR2RGB)
        img2 = cv2.cvtColor(self.processed_image, cv2.COLOR_BGR2RGB)
        alpha_slider = widgets.FloatSlider(value=0.5, min=0, max=1, step=0.01, description='Mistura:')
        def update(alpha):
            blended = cv2.addWeighted(img1, 1 - alpha, img2, alpha, 0)
            ax.clear()
            ax.imshow(blended)
            ax.set_title(f'{int(alpha*100)}% Processada')
            ax.axis('off')
            display(fig)
        display(widgets.interactive(update, alpha=alpha_slider))

    def workflow_demo(self):
        import time
        etapas = [
            ("Upload", self.upload_image),
            ("Análise", lambda: self.analyze_histogram()),
            ("Linear", lambda: self.linear_transformations(20, 1.2)),
            ("Não-Linear", lambda: self.nonlinear_transformations("gamma", 0.8)),
            ("Equalização", lambda: self.histogram_equalization("adaptive")),
            ("Visualização", self.comparative_visualization)
        ]
        tempos = []
        for nome, func in etapas:
            t0 = time.time()
            print(f"\n▶ {nome} em andamento...")
            try:
                func()
            except Exception as e:
                print(f"Erro em {nome}: {e}")
            t1 = time.time()
            tempos.append((nome, t1 - t0))
        print("\n📘 Gerando relatório...")
        arq = self.generate_report()
        print("\n📊 TEMPOS DE EXECUÇÃO")
        for nome, dur in tempos:
            print(f"- {nome:<15} {dur:.2f}s")
        print(f"\nRelatório: {arq}")

    def generate_report(self):
        if not self.images_history:
            print("⚠️ Nenhuma operação registrada!")
            return
        agora = datetime.now().strftime('%Y-%m-%d %H:%M:%S')
        json_file = f"spectrum_report_{datetime.now().strftime('%Y%m%d_%H%M%S')}.json"
        html_file = json_file.replace(".json", ".html")
        tipos = {}
        for op in self.images_history:
            tipos[op["operation"]] = tipos.get(op["operation"], 0) + 1
        report = {
            "sistema": "SPECTRUM - Ferramenta de Análise e Correção de Imagens",
            "data_geracao": agora,
            "total_operacoes": len(self.images_history),
            "tipos_operacao": tipos,
            "operacoes": self.images_history
        }
        with open(json_file, "w", encoding="utf-8") as f:
            json.dump(report, f, indent=2, ensure_ascii=False)
        html = f"""
        <html>
        <head>
            <title>Relatório Spectrum</title>
            <style>
                body {{font-family: Arial; margin: 40px; background: #fafafa;}}
                h1 {{color: #333;}}
                table {{border-collapse: collapse; width: 100%; margin-top: 20px;}}
                th, td {{border: 1px solid #ccc; padding: 8px; text-align: left;}}
                th {{background: #eee;}}
            </style>
        </head>
        <body>
            <h1>Relatório SPECTRUM</h1>
            <p><b>Data:</b> {agora}</p>
            <p><b>Total de Operações:</b> {len(self.images_history)}</p>
            <h3>Distribuição de Operações</h3>
            <ul>{"".join([f"<li>{k}: {v}</li>" for k, v in tipos.items()])}</ul>
            <h3>Histórico Detalhado</h3>
            <table>
                <tr><th>#</th><th>Operação</th><th>Horário</th></tr>
                {''.join([f"<tr><td>{i+1}</td><td>{op['operation']}</td><td>{op['timestamp']}</td></tr>" for i, op in enumerate(self.images_history)])}
            </table>
        </body>
        </html>
        """
        with open(html_file, "w", encoding="utf-8") as f:
            f.write(html)
        print(f"✅ Relatórios gerados:\n- JSON: {json_file}\n- HTML: {html_file}")
        return html_file

    def _log_operation(self, op, params):
        self.images_history.append({
            "operation": op,
            "parameters": params,
            "timestamp": datetime.now().isoformat(),
            "user_type": self.user_type
        })

def main():
    s = SpectrumImageProcessor()
    while True:
        print("\n1 Upload | 2 Linear | 3 Não-Linear | 4 Equalização | 5 Análise | 6 Visual | 7 Demo | 8 Relatório | 0 Sair")
        op = input("Escolha: ")
        if op == "1": s.upload_image()
        elif op == "2": s.linear_transformations()
        elif op == "3": s.nonlinear_transformations()
        elif op == "4": s.histogram_equalization()
        elif op == "5": s.analyze_histogram()
        elif op == "6": s.comparative_visualization()
        elif op == "7": s.workflow_demo()
        elif op == "8": s.generate_report()
        elif op == "0": break
        else: print("Inválido!")

if __name__ == "__main__":
    main()
